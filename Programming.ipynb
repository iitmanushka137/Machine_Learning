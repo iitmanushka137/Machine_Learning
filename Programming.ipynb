
import numpy as np
file = open("test.py",'w')
def vec_addition(u,v):
    if u.shape != v.shape:
        return None
    A = u+v
    return A
